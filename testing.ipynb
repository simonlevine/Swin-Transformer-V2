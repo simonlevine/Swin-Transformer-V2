{
 "cells": [
  {
   "cell_type": "code",
   "execution_count": 3,
   "metadata": {},
   "outputs": [
    {
     "data": {
      "text/plain": [
       "torch.Size([8, 239, 4])"
      ]
     },
     "execution_count": 3,
     "metadata": {},
     "output_type": "execute_result"
    }
   ],
   "source": [
    "%load_ext autoreload\n",
    "%autoreload 2\n",
    "from swin_transformer_v2_1D.model_parts import bcd_to_bdc,bdc_to_bcd\n",
    "import torch\n",
    "\n",
    "x = torch.rand(size=(8,239,4))\n",
    "x.shape\n"
   ]
  },
  {
   "cell_type": "code",
   "execution_count": 4,
   "metadata": {},
   "outputs": [
    {
     "data": {
      "text/plain": [
       "True"
      ]
     },
     "execution_count": 4,
     "metadata": {},
     "output_type": "execute_result"
    }
   ],
   "source": [
    "bcd_to_bdc(x).shape == (8,4,239)"
   ]
  },
  {
   "cell_type": "code",
   "execution_count": 5,
   "metadata": {},
   "outputs": [
    {
     "data": {
      "text/plain": [
       "True"
      ]
     },
     "execution_count": 5,
     "metadata": {},
     "output_type": "execute_result"
    }
   ],
   "source": [
    "bdc_to_bcd(bcd_to_bdc(x)).shape == x.shape"
   ]
  },
  {
   "cell_type": "code",
   "execution_count": 19,
   "metadata": {},
   "outputs": [
    {
     "name": "stdout",
     "output_type": "stream",
     "text": [
      "torch.Size([8, 4, 239])\n"
     ]
    },
    {
     "data": {
      "text/plain": [
       "torch.Size([8, 4, 79, 3])"
      ]
     },
     "execution_count": 19,
     "metadata": {},
     "output_type": "execute_result"
    }
   ],
   "source": [
    "from swin_transformer_v2_1D.model_parts import unfold\n",
    "\n",
    "x_bcd=bdc_to_bcd(x)\n",
    "print(x_bcd.shape) #OK\n",
    "input=x_bcd\n",
    "\n",
    "window_size=3\n",
    "\n",
    "_, channels, length = input.shape\n",
    "\n",
    "# Unfold input\n",
    "output: torch.Tensor = input.unfold(dimension=2, size=window_size, step=window_size)  #BxCxWindowsxWindowSize\n",
    "        # .unfold(dimension=2, size=window_size, step=window_size)\n",
    "\n",
    "output.shape"
   ]
  },
  {
   "cell_type": "code",
   "execution_count": 20,
   "metadata": {},
   "outputs": [
    {
     "data": {
      "text/plain": [
       "torch.Size([632, 4, 3])"
      ]
     },
     "execution_count": 20,
     "metadata": {},
     "output_type": "execute_result"
    }
   ],
   "source": [
    "# Reshape to [batch size * windows, channels, window size]\n",
    "# output: torch.Tensor = output.permute(0, 2, 3, 1, 5, 4).reshape(-1, channels, window_size, window_size)\n",
    "\n",
    "output: torch.Tensor = output.permute(0, 2, 1, 3).reshape(-1, channels, window_size)\n",
    "\n",
    "# unfold(x_bcd,window_size=8).shape #should be (8*windows=632,4,3=window_size)\n",
    "output.shape"
   ]
  },
  {
   "cell_type": "code",
   "execution_count": 25,
   "metadata": {},
   "outputs": [],
   "source": [
    "input=unfold(x_bcd,3)"
   ]
  },
  {
   "cell_type": "code",
   "execution_count": 26,
   "metadata": {},
   "outputs": [
    {
     "data": {
      "text/plain": [
       "torch.Size([632, 4, 3])"
      ]
     },
     "execution_count": 26,
     "metadata": {},
     "output_type": "execute_result"
    }
   ],
   "source": [
    "input.shape"
   ]
  },
  {
   "cell_type": "code",
   "execution_count": 28,
   "metadata": {},
   "outputs": [
    {
     "name": "stdout",
     "output_type": "stream",
     "text": [
      "8\n"
     ]
    },
    {
     "ename": "RuntimeError",
     "evalue": "shape '[8, 4, 239]' is invalid for input of size 7584",
     "output_type": "error",
     "traceback": [
      "\u001b[0;31m---------------------------------------------------------------------------\u001b[0m",
      "\u001b[0;31mRuntimeError\u001b[0m                              Traceback (most recent call last)",
      "\u001b[0;32m<ipython-input-28-b888b4706055>\u001b[0m in \u001b[0;36m<module>\u001b[0;34m\u001b[0m\n\u001b[1;32m      8\u001b[0m output: torch.Tensor = input.view(batch_size, length // window_size, channels,\n\u001b[1;32m      9\u001b[0m                                 window_size)\n\u001b[0;32m---> 10\u001b[0;31m \u001b[0moutput\u001b[0m\u001b[0;34m:\u001b[0m \u001b[0mtorch\u001b[0m\u001b[0;34m.\u001b[0m\u001b[0mTensor\u001b[0m \u001b[0;34m=\u001b[0m \u001b[0moutput\u001b[0m\u001b[0;34m.\u001b[0m\u001b[0mpermute\u001b[0m\u001b[0;34m(\u001b[0m\u001b[0;36m0\u001b[0m\u001b[0;34m,\u001b[0m \u001b[0;36m2\u001b[0m\u001b[0;34m,\u001b[0m \u001b[0;36m1\u001b[0m\u001b[0;34m,\u001b[0m\u001b[0;36m3\u001b[0m\u001b[0;34m)\u001b[0m\u001b[0;34m.\u001b[0m\u001b[0mreshape\u001b[0m\u001b[0;34m(\u001b[0m\u001b[0mbatch_size\u001b[0m\u001b[0;34m,\u001b[0m \u001b[0mchannels\u001b[0m\u001b[0;34m,\u001b[0m\u001b[0mlength\u001b[0m\u001b[0;34m)\u001b[0m\u001b[0;34m\u001b[0m\u001b[0;34m\u001b[0m\u001b[0m\n\u001b[0m\u001b[1;32m     11\u001b[0m \u001b[0moutput\u001b[0m\u001b[0;34m.\u001b[0m\u001b[0mshape\u001b[0m\u001b[0;34m\u001b[0m\u001b[0;34m\u001b[0m\u001b[0m\n",
      "\u001b[0;31mRuntimeError\u001b[0m: shape '[8, 4, 239]' is invalid for input of size 7584"
     ]
    }
   ],
   "source": [
    "# Get channels of windows\n",
    "channels: int = input.shape[1]\n",
    "length=239\n",
    "# Get original batch size\n",
    "batch_size: int = int(input.shape[0] // (length // window_size))\n",
    "print(batch_size) #correct\n",
    "# Reshape input to\n",
    "output: torch.Tensor = input.view(batch_size, length // window_size, channels,\n",
    "                                window_size)\n",
    "output: torch.Tensor = output.permute(0, 2, 1, 3).reshape(batch_size, channels,length)\n",
    "output.shape"
   ]
  },
  {
   "cell_type": "code",
   "execution_count": null,
   "metadata": {},
   "outputs": [],
   "source": []
  }
 ],
 "metadata": {
  "interpreter": {
   "hash": "a29d6e4ec81f9a17f65c7aa6eb72ef154314851fc18f76fb03d7be4238fa0df8"
  },
  "kernelspec": {
   "display_name": "Python 3.9.5 64-bit ('deepenv': conda)",
   "language": "python",
   "name": "python3"
  },
  "language_info": {
   "codemirror_mode": {
    "name": "ipython",
    "version": 3
   },
   "file_extension": ".py",
   "mimetype": "text/x-python",
   "name": "python",
   "nbconvert_exporter": "python",
   "pygments_lexer": "ipython3",
   "version": "3.9.5"
  },
  "orig_nbformat": 4
 },
 "nbformat": 4,
 "nbformat_minor": 2
}
